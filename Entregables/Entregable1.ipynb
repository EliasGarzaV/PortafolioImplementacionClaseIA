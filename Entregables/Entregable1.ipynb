{
 "cells": [
  {
   "cell_type": "code",
   "execution_count": 1,
   "metadata": {},
   "outputs": [],
   "source": [
    "import pandas as pd\n",
    "import numpy as np"
   ]
  },
  {
   "cell_type": "markdown",
   "metadata": {},
   "source": [
    "Vamos a utilizar la regresion lineal de multiples dimensiones. Esto lo podemos hacer directamente ya que es equivalente a hacer una regresión lineal de 1 dimension pero utilizamos un vector para $x$ en lugar de un valor numérico. \n",
    "\n",
    "De hecho, al hacer las derivadas para el gradiente descendiente obtenemos que \n",
    "\n",
    "$\\frac{∂J_{θ}}{∂θ_0} = \\frac{1}{n}\\sum_{i=1}^{n}(h_θ(x_i)-y_i)$\n",
    "\n",
    "$\\frac{∂J_{θ}}{∂θ_1} = \\frac{1}{n}\\sum_{i=1}^{n}(h_θ(x_i)-y_i)x_i \\quad \\forall \\ i \\neq 0$\n",
    "\n",
    "que es justo las ecuaciones que utilizamos para otimizar los valores de $\\theta$.\n",
    "\n",
    "A continuacion implementaremos esta regresión multilineal de manera general a traves de una función para poder reutilizar el código más adelante. "
   ]
  },
  {
   "cell_type": "code",
   "execution_count": 2,
   "metadata": {},
   "outputs": [],
   "source": [
    "def multilinear_regression(x:np.array, y:np.array, initial:np.array, alpha:float=0.001, iters:int=1000) -> np.array:\n",
    "    \"\"\"This function train a multiple dimension linear model using gradient descent as its optimizer. \n",
    "\n",
    "    Args:\n",
    "        x (np.array[np.array[float]]): The independent variables. Each row of variables must be an\n",
    "        element of the array\n",
    "        y (np.array[float]): An array with the dependant variable.\n",
    "        initial (np.array[float]): The initial wieghts to consider.\n",
    "        alpha (float): The learning rate\n",
    "        iters (int): Number of iterations to run the model.\n",
    "\n",
    "    Returns:\n",
    "        np.array: The weights of the best fit. \n",
    "    \"\"\"\n",
    "    #For code simplicity, we'll add a 1-column for the constant factor\n",
    "    x = np.array([np.insert(i, 0, 1) for i in x])\n",
    "\n",
    "    #get the dimension\n",
    "    dim = len(x[0])\n",
    "    \n",
    "    n = len(x)\n",
    "\n",
    "    #define the hipothesis function\n",
    "    h = lambda x, t: np.dot(x, t)\n",
    "\n",
    "    t = initial\n",
    "    for _ in range(iters):\n",
    "        #computing dT\n",
    "        t_delta = [1] * dim\n",
    "        for i in range(dim):\n",
    "            t_delta[i] = (1/n) * sum([(h(x[j], t) - y[j]) * x[j][i] for j in range(n)])\n",
    "        \n",
    "        t_delta = np.array(t_delta)\n",
    "        #updating T\n",
    "        t = (t - alpha*t_delta)\n",
    "    \n",
    "    return t\n",
    "\n",
    "def predict_regression(t, x):\n",
    "    x = np.array([np.insert(i, 0, 1) for i in x])\n",
    "    return np.dot(x, t)\n"
   ]
  },
  {
   "cell_type": "markdown",
   "metadata": {},
   "source": [
    "Vamos a probar esto con el dataset que se puede encontrar en `Data\\salary.csv`. Estos son datos de profesores en una universidad con los cuales vamos a intentar predecir su salario. Como hay algunas variables categoricas vamos a hacer un one-hot encoding con algunas columnas. "
   ]
  },
  {
   "cell_type": "code",
   "execution_count": 3,
   "metadata": {},
   "outputs": [
    {
     "data": {
      "text/html": [
       "<div>\n",
       "<style scoped>\n",
       "    .dataframe tbody tr th:only-of-type {\n",
       "        vertical-align: middle;\n",
       "    }\n",
       "\n",
       "    .dataframe tbody tr th {\n",
       "        vertical-align: top;\n",
       "    }\n",
       "\n",
       "    .dataframe thead th {\n",
       "        text-align: right;\n",
       "    }\n",
       "</style>\n",
       "<table border=\"1\" class=\"dataframe\">\n",
       "  <thead>\n",
       "    <tr style=\"text-align: right;\">\n",
       "      <th></th>\n",
       "      <th>yrs.since.phd</th>\n",
       "      <th>yrs.service</th>\n",
       "      <th>salary</th>\n",
       "      <th>rank_AssocProf</th>\n",
       "      <th>rank_AsstProf</th>\n",
       "      <th>rank_Prof</th>\n",
       "      <th>discipline_A</th>\n",
       "      <th>sex_Female</th>\n",
       "    </tr>\n",
       "  </thead>\n",
       "  <tbody>\n",
       "    <tr>\n",
       "      <th>0</th>\n",
       "      <td>19</td>\n",
       "      <td>18</td>\n",
       "      <td>139750</td>\n",
       "      <td>False</td>\n",
       "      <td>False</td>\n",
       "      <td>True</td>\n",
       "      <td>False</td>\n",
       "      <td>False</td>\n",
       "    </tr>\n",
       "    <tr>\n",
       "      <th>1</th>\n",
       "      <td>20</td>\n",
       "      <td>16</td>\n",
       "      <td>173200</td>\n",
       "      <td>False</td>\n",
       "      <td>False</td>\n",
       "      <td>True</td>\n",
       "      <td>False</td>\n",
       "      <td>False</td>\n",
       "    </tr>\n",
       "    <tr>\n",
       "      <th>2</th>\n",
       "      <td>4</td>\n",
       "      <td>3</td>\n",
       "      <td>79750</td>\n",
       "      <td>False</td>\n",
       "      <td>True</td>\n",
       "      <td>False</td>\n",
       "      <td>False</td>\n",
       "      <td>False</td>\n",
       "    </tr>\n",
       "    <tr>\n",
       "      <th>3</th>\n",
       "      <td>45</td>\n",
       "      <td>39</td>\n",
       "      <td>115000</td>\n",
       "      <td>False</td>\n",
       "      <td>False</td>\n",
       "      <td>True</td>\n",
       "      <td>False</td>\n",
       "      <td>False</td>\n",
       "    </tr>\n",
       "    <tr>\n",
       "      <th>4</th>\n",
       "      <td>40</td>\n",
       "      <td>41</td>\n",
       "      <td>141500</td>\n",
       "      <td>False</td>\n",
       "      <td>False</td>\n",
       "      <td>True</td>\n",
       "      <td>False</td>\n",
       "      <td>False</td>\n",
       "    </tr>\n",
       "    <tr>\n",
       "      <th>...</th>\n",
       "      <td>...</td>\n",
       "      <td>...</td>\n",
       "      <td>...</td>\n",
       "      <td>...</td>\n",
       "      <td>...</td>\n",
       "      <td>...</td>\n",
       "      <td>...</td>\n",
       "      <td>...</td>\n",
       "    </tr>\n",
       "    <tr>\n",
       "      <th>392</th>\n",
       "      <td>33</td>\n",
       "      <td>30</td>\n",
       "      <td>103106</td>\n",
       "      <td>False</td>\n",
       "      <td>False</td>\n",
       "      <td>True</td>\n",
       "      <td>True</td>\n",
       "      <td>False</td>\n",
       "    </tr>\n",
       "    <tr>\n",
       "      <th>393</th>\n",
       "      <td>31</td>\n",
       "      <td>19</td>\n",
       "      <td>150564</td>\n",
       "      <td>False</td>\n",
       "      <td>False</td>\n",
       "      <td>True</td>\n",
       "      <td>True</td>\n",
       "      <td>False</td>\n",
       "    </tr>\n",
       "    <tr>\n",
       "      <th>394</th>\n",
       "      <td>42</td>\n",
       "      <td>25</td>\n",
       "      <td>101738</td>\n",
       "      <td>False</td>\n",
       "      <td>False</td>\n",
       "      <td>True</td>\n",
       "      <td>True</td>\n",
       "      <td>False</td>\n",
       "    </tr>\n",
       "    <tr>\n",
       "      <th>395</th>\n",
       "      <td>25</td>\n",
       "      <td>15</td>\n",
       "      <td>95329</td>\n",
       "      <td>False</td>\n",
       "      <td>False</td>\n",
       "      <td>True</td>\n",
       "      <td>True</td>\n",
       "      <td>False</td>\n",
       "    </tr>\n",
       "    <tr>\n",
       "      <th>396</th>\n",
       "      <td>8</td>\n",
       "      <td>4</td>\n",
       "      <td>81035</td>\n",
       "      <td>False</td>\n",
       "      <td>True</td>\n",
       "      <td>False</td>\n",
       "      <td>True</td>\n",
       "      <td>False</td>\n",
       "    </tr>\n",
       "  </tbody>\n",
       "</table>\n",
       "<p>397 rows × 8 columns</p>\n",
       "</div>"
      ],
      "text/plain": [
       "     yrs.since.phd  yrs.service  salary  rank_AssocProf  rank_AsstProf  \\\n",
       "0               19           18  139750           False          False   \n",
       "1               20           16  173200           False          False   \n",
       "2                4            3   79750           False           True   \n",
       "3               45           39  115000           False          False   \n",
       "4               40           41  141500           False          False   \n",
       "..             ...          ...     ...             ...            ...   \n",
       "392             33           30  103106           False          False   \n",
       "393             31           19  150564           False          False   \n",
       "394             42           25  101738           False          False   \n",
       "395             25           15   95329           False          False   \n",
       "396              8            4   81035           False           True   \n",
       "\n",
       "     rank_Prof  discipline_A  sex_Female  \n",
       "0         True         False       False  \n",
       "1         True         False       False  \n",
       "2        False         False       False  \n",
       "3         True         False       False  \n",
       "4         True         False       False  \n",
       "..         ...           ...         ...  \n",
       "392       True          True       False  \n",
       "393       True          True       False  \n",
       "394       True          True       False  \n",
       "395       True          True       False  \n",
       "396      False          True       False  \n",
       "\n",
       "[397 rows x 8 columns]"
      ]
     },
     "execution_count": 3,
     "metadata": {},
     "output_type": "execute_result"
    }
   ],
   "source": [
    "df = pd.read_csv('..\\Data\\salary.csv')\n",
    "df = pd.get_dummies(df).drop(columns=['discipline_B', 'sex_Male'])\n",
    "df"
   ]
  },
  {
   "cell_type": "markdown",
   "metadata": {},
   "source": [
    "Vamos a dividir nuestro dataset en un conjunto de pruebas otro de entrenamiento."
   ]
  },
  {
   "cell_type": "code",
   "execution_count": 4,
   "metadata": {},
   "outputs": [],
   "source": [
    "from sklearn.model_selection import train_test_split\n",
    "X_train, X_test, y_train, y_test = train_test_split(df.drop(columns = 'salary'), df['salary'], test_size=0.2, random_state=42)"
   ]
  },
  {
   "cell_type": "markdown",
   "metadata": {},
   "source": [
    "Ahora toca entrenar el modelo"
   ]
  },
  {
   "cell_type": "code",
   "execution_count": 5,
   "metadata": {},
   "outputs": [
    {
     "data": {
      "text/plain": [
       "array([ 74803.32630566,    917.18540936,   -404.32649677,  12446.35551641,\n",
       "         9926.87427422,  42580.09651503, -14441.11793967,    613.6788751 ])"
      ]
     },
     "execution_count": 5,
     "metadata": {},
     "output_type": "execute_result"
    }
   ],
   "source": [
    "t = multilinear_regression(X_train.values,\n",
    "                           y_train.values,\n",
    "                           np.array([10000, 50, 100, 50, 50, 50, 50, 50]),\n",
    "                           0.0015,\n",
    "                           10000)\n",
    "t"
   ]
  },
  {
   "cell_type": "markdown",
   "metadata": {},
   "source": [
    "Generamos la predicción"
   ]
  },
  {
   "cell_type": "code",
   "execution_count": 6,
   "metadata": {},
   "outputs": [],
   "source": [
    "y_pred = predict_regression(t, X_test.values)"
   ]
  },
  {
   "cell_type": "markdown",
   "metadata": {},
   "source": [
    "Ahora vamos a calcular algunas metricas para medir el rendimiento del modelo"
   ]
  },
  {
   "cell_type": "code",
   "execution_count": 7,
   "metadata": {},
   "outputs": [
    {
     "name": "stdout",
     "output_type": "stream",
     "text": [
      "MSE:613838312.0418055   MAE:17405.62856955903   MAPE:0.16573198127045846\n"
     ]
    }
   ],
   "source": [
    "def get_metrics_regression(real, pred):\n",
    "  mae = np.mean(np.abs(real - pred))\n",
    "  mape = np.mean(np.abs(real - pred) / real)\n",
    "  mse = np.mean((real - pred)**2)\n",
    "  \n",
    "  return mse, mae, mape\n",
    "mse, mae, mape = get_metrics_regression(y_test, y_pred)\n",
    "print(f'MSE:{mse}   MAE:{mae}   MAPE:{mape}')"
   ]
  }
 ],
 "metadata": {
  "kernelspec": {
   "display_name": "base",
   "language": "python",
   "name": "python3"
  },
  "language_info": {
   "codemirror_mode": {
    "name": "ipython",
    "version": 3
   },
   "file_extension": ".py",
   "mimetype": "text/x-python",
   "name": "python",
   "nbconvert_exporter": "python",
   "pygments_lexer": "ipython3",
   "version": "3.9.16"
  },
  "orig_nbformat": 4
 },
 "nbformat": 4,
 "nbformat_minor": 2
}
