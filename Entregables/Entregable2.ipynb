{
 "cells": [
  {
   "cell_type": "code",
   "execution_count": 24,
   "metadata": {},
   "outputs": [],
   "source": [
    "import pandas as pd\n",
    "import numpy as np\n",
    "from sklearn.linear_model import LinearRegression, SGDRegressor\n",
    "from sklearn.model_selection import train_test_split\n",
    "from sklearn.metrics import mean_squared_error, mean_absolute_error\n",
    "import sys\n",
    "sys.path.append('..')\n",
    "from functions.Multilinear_regression import *\n",
    "from functions.evaluation import *"
   ]
  },
  {
   "cell_type": "markdown",
   "metadata": {},
   "source": [
    "Compararemos la implementación de un modelo utilizando un framework y nuestra implementación propia a ver si dan los mismos resultados. \n",
    "\n",
    "El dataset se puede encontrar en `Data\\salary.csv`. Estos son datos de profesores en una universidad con los cuales vamos a intentar predecir su salario. Como hay algunas variables categoricas vamos a hacer un one-hot encoding con algunas columnas. "
   ]
  },
  {
   "cell_type": "code",
   "execution_count": 4,
   "metadata": {},
   "outputs": [
    {
     "data": {
      "text/html": [
       "<div>\n",
       "<style scoped>\n",
       "    .dataframe tbody tr th:only-of-type {\n",
       "        vertical-align: middle;\n",
       "    }\n",
       "\n",
       "    .dataframe tbody tr th {\n",
       "        vertical-align: top;\n",
       "    }\n",
       "\n",
       "    .dataframe thead th {\n",
       "        text-align: right;\n",
       "    }\n",
       "</style>\n",
       "<table border=\"1\" class=\"dataframe\">\n",
       "  <thead>\n",
       "    <tr style=\"text-align: right;\">\n",
       "      <th></th>\n",
       "      <th>yrs.since.phd</th>\n",
       "      <th>yrs.service</th>\n",
       "      <th>salary</th>\n",
       "      <th>rank_AssocProf</th>\n",
       "      <th>rank_AsstProf</th>\n",
       "      <th>rank_Prof</th>\n",
       "      <th>discipline_A</th>\n",
       "      <th>discipline_B</th>\n",
       "      <th>sex_Female</th>\n",
       "      <th>sex_Male</th>\n",
       "    </tr>\n",
       "  </thead>\n",
       "  <tbody>\n",
       "    <tr>\n",
       "      <th>0</th>\n",
       "      <td>19</td>\n",
       "      <td>18</td>\n",
       "      <td>139750</td>\n",
       "      <td>False</td>\n",
       "      <td>False</td>\n",
       "      <td>True</td>\n",
       "      <td>False</td>\n",
       "      <td>True</td>\n",
       "      <td>False</td>\n",
       "      <td>True</td>\n",
       "    </tr>\n",
       "    <tr>\n",
       "      <th>1</th>\n",
       "      <td>20</td>\n",
       "      <td>16</td>\n",
       "      <td>173200</td>\n",
       "      <td>False</td>\n",
       "      <td>False</td>\n",
       "      <td>True</td>\n",
       "      <td>False</td>\n",
       "      <td>True</td>\n",
       "      <td>False</td>\n",
       "      <td>True</td>\n",
       "    </tr>\n",
       "    <tr>\n",
       "      <th>2</th>\n",
       "      <td>4</td>\n",
       "      <td>3</td>\n",
       "      <td>79750</td>\n",
       "      <td>False</td>\n",
       "      <td>True</td>\n",
       "      <td>False</td>\n",
       "      <td>False</td>\n",
       "      <td>True</td>\n",
       "      <td>False</td>\n",
       "      <td>True</td>\n",
       "    </tr>\n",
       "    <tr>\n",
       "      <th>3</th>\n",
       "      <td>45</td>\n",
       "      <td>39</td>\n",
       "      <td>115000</td>\n",
       "      <td>False</td>\n",
       "      <td>False</td>\n",
       "      <td>True</td>\n",
       "      <td>False</td>\n",
       "      <td>True</td>\n",
       "      <td>False</td>\n",
       "      <td>True</td>\n",
       "    </tr>\n",
       "    <tr>\n",
       "      <th>4</th>\n",
       "      <td>40</td>\n",
       "      <td>41</td>\n",
       "      <td>141500</td>\n",
       "      <td>False</td>\n",
       "      <td>False</td>\n",
       "      <td>True</td>\n",
       "      <td>False</td>\n",
       "      <td>True</td>\n",
       "      <td>False</td>\n",
       "      <td>True</td>\n",
       "    </tr>\n",
       "  </tbody>\n",
       "</table>\n",
       "</div>"
      ],
      "text/plain": [
       "   yrs.since.phd  yrs.service  salary  rank_AssocProf  rank_AsstProf  \\\n",
       "0             19           18  139750           False          False   \n",
       "1             20           16  173200           False          False   \n",
       "2              4            3   79750           False           True   \n",
       "3             45           39  115000           False          False   \n",
       "4             40           41  141500           False          False   \n",
       "\n",
       "   rank_Prof  discipline_A  discipline_B  sex_Female  sex_Male  \n",
       "0       True         False          True       False      True  \n",
       "1       True         False          True       False      True  \n",
       "2      False         False          True       False      True  \n",
       "3       True         False          True       False      True  \n",
       "4       True         False          True       False      True  "
      ]
     },
     "execution_count": 4,
     "metadata": {},
     "output_type": "execute_result"
    }
   ],
   "source": [
    "df = pd.read_csv('..\\Data\\salary.csv')\n",
    "df = pd.get_dummies(df)\n",
    "df.head()"
   ]
  },
  {
   "cell_type": "markdown",
   "metadata": {},
   "source": [
    "Vamos a dividir nuestro dataset en un conjunto de pruebas otro de entrenamiento."
   ]
  },
  {
   "cell_type": "code",
   "execution_count": 6,
   "metadata": {},
   "outputs": [],
   "source": [
    "\n",
    "X_train, X_test, y_train, y_test = train_test_split(df.drop(columns = 'salary'), df['salary'], test_size=0.2, random_state=42)"
   ]
  },
  {
   "cell_type": "markdown",
   "metadata": {},
   "source": [
    "## Modelo estadistico con sklearn\n",
    "\n",
    "Vamos a crear el modelo 3 veces para comparar todo. Primero utilizando minimos cuadrados para obtener los parámetros óptimos directamente lo cual podemos hacer con la libreria de Sklearn. "
   ]
  },
  {
   "cell_type": "code",
   "execution_count": 12,
   "metadata": {},
   "outputs": [
    {
     "data": {
      "text/plain": [
       "[93336.8669810207,\n",
       " 506.78274727016327,\n",
       " -307.88522912181566,\n",
       " -7064.238273050716,\n",
       " -18571.068852445955,\n",
       " 25635.307125496674,\n",
       " -8027.748718966921,\n",
       " 8027.748718966921,\n",
       " -2182.9911443485003,\n",
       " 2182.9911443485007]"
      ]
     },
     "execution_count": 12,
     "metadata": {},
     "output_type": "execute_result"
    }
   ],
   "source": [
    "model_stat = LinearRegression()\n",
    "model_stat.fit(X_train, y_train)\n",
    "[model_stat.intercept_] +  list(model_stat.coef_)"
   ]
  },
  {
   "cell_type": "markdown",
   "metadata": {},
   "source": [
    "Ahora vamos a graficar las metricas de los modelos para ver como funciona"
   ]
  },
  {
   "cell_type": "code",
   "execution_count": 17,
   "metadata": {},
   "outputs": [
    {
     "name": "stdout",
     "output_type": "stream",
     "text": [
      "MSE:584765286.8530645   MAE:16703.47743313775   MAPE:0.15873779450133146\n"
     ]
    }
   ],
   "source": [
    "y_pred_stat = model_stat.predict(X_test)\n",
    "mse, mae, mape = get_metrics_regression(y_test, y_pred_stat)\n",
    "print(f'MSE:{mse}   MAE:{mae}   MAPE:{mape}')"
   ]
  },
  {
   "cell_type": "markdown",
   "metadata": {},
   "source": [
    "## Modelo con optimizador en sklearn\n",
    "\n",
    "Ahora utilizaremos un modelo con optimizador de gradiente descendente estocastico. "
   ]
  },
  {
   "cell_type": "code",
   "execution_count": 21,
   "metadata": {},
   "outputs": [
    {
     "data": {
      "text/plain": [
       "[5171472220.348316,\n",
       " -6103570733.493881,\n",
       " 7424601455.622701,\n",
       " 2848987051.7539425,\n",
       " -1692866968.082073,\n",
       " 4013128334.717951,\n",
       " 582845373.787163,\n",
       " 4586403044.60265,\n",
       " 7545982954.472075,\n",
       " -2376734536.082261]"
      ]
     },
     "execution_count": 21,
     "metadata": {},
     "output_type": "execute_result"
    }
   ],
   "source": [
    "model = SGDRegressor(max_iter=10000)\n",
    "model.fit(X_train, y_train)\n",
    "list(model.intercept_) +  list(model.coef_)"
   ]
  },
  {
   "cell_type": "code",
   "execution_count": 20,
   "metadata": {},
   "outputs": [
    {
     "name": "stdout",
     "output_type": "stream",
     "text": [
      "MSE:584765286.8530645   MAE:16703.47743313775   MAPE:0.15873779450133146\n"
     ]
    }
   ],
   "source": [
    "y_pred = model.predict(X_test)\n",
    "mse, mae, mape = get_metrics_regression(y_test, y_pred_stat)\n",
    "print(f'MSE:{mse}   MAE:{mae}   MAPE:{mape}')"
   ]
  },
  {
   "cell_type": "markdown",
   "metadata": {},
   "source": [
    "## Modelo Propio"
   ]
  },
  {
   "cell_type": "markdown",
   "metadata": {},
   "source": [
    "Ahora toca entrenar el modelo"
   ]
  },
  {
   "cell_type": "code",
   "execution_count": 29,
   "metadata": {},
   "outputs": [
    {
     "data": {
      "text/plain": [
       "array([43576.80690829,   764.33122037,  -375.61001786,  3307.01957558,\n",
       "       -2694.99465346, 33114.78198617,  8463.35327934, 25213.45362895,\n",
       "       12466.50048012, 21210.30642817])"
      ]
     },
     "execution_count": 29,
     "metadata": {},
     "output_type": "execute_result"
    }
   ],
   "source": [
    "t = multilinear_regression(X_train.values,\n",
    "                           y_train.values,\n",
    "                           np.array([10000, 50, 100, 50, 50, 50, 50, 50, 50, 50]),\n",
    "                           0.0015,\n",
    "                           10000)\n",
    "t"
   ]
  },
  {
   "cell_type": "markdown",
   "metadata": {},
   "source": [
    "Generamos la predicción"
   ]
  },
  {
   "cell_type": "code",
   "execution_count": 30,
   "metadata": {},
   "outputs": [],
   "source": [
    "y_pred = predict_regresion(t, X_test.values)"
   ]
  },
  {
   "cell_type": "markdown",
   "metadata": {},
   "source": [
    "Ahora vamos a calcular algunas metricas para medir el rendimiento del modelo"
   ]
  },
  {
   "cell_type": "code",
   "execution_count": 31,
   "metadata": {},
   "outputs": [
    {
     "name": "stdout",
     "output_type": "stream",
     "text": [
      "MSE:601408159.419883   MAE:16924.52640249945   MAPE:0.16123369475333188\n"
     ]
    }
   ],
   "source": [
    "mse, mae, mape = get_metrics_regression(y_test, y_pred)\n",
    "print(f'MSE:{mse}   MAE:{mae}   MAPE:{mape}')"
   ]
  },
  {
   "cell_type": "markdown",
   "metadata": {},
   "source": [
    "## Comparacion\n",
    "\n",
    "Podemos ver que el mejor modelo resulto ser el estadistico. Sin embargo este tipo de modelos puede llegar a ser lentos dependiendo de los datos que queramos ajustar por lo que no siempre es lo mejor. El que definitivamente fue peor fue el propio :( ya que se tardó más que los otros dos y tuvo un error ligeramente superior. "
   ]
  }
 ],
 "metadata": {
  "kernelspec": {
   "display_name": "base",
   "language": "python",
   "name": "python3"
  },
  "language_info": {
   "codemirror_mode": {
    "name": "ipython",
    "version": 3
   },
   "file_extension": ".py",
   "mimetype": "text/x-python",
   "name": "python",
   "nbconvert_exporter": "python",
   "pygments_lexer": "ipython3",
   "version": "3.9.16"
  },
  "orig_nbformat": 4
 },
 "nbformat": 4,
 "nbformat_minor": 2
}
